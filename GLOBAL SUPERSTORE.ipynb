{
 "cells": [
  {
   "cell_type": "markdown",
   "id": "0919877a-8537-493f-84a8-a3198609c688",
   "metadata": {},
   "source": [
    "# GLOBAL SUPERSTORE ANALYSIS\n",
    "The aim of this notebook is to guide the analysis project of the IT student and answer project questions"
   ]
  },
  {
   "cell_type": "markdown",
   "id": "6129d6f2-13b2-47b1-9e44-4024f429f700",
   "metadata": {},
   "source": [
    "## DATA EXPLORATION"
   ]
  },
  {
   "cell_type": "code",
   "execution_count": 1,
   "id": "8a888f37-73b3-4017-8d03-8ab58283a213",
   "metadata": {},
   "outputs": [],
   "source": [
    "#import necessary python analysis modules\n",
    "import pandas as pd\n",
    "import numpy as np\n",
    "import seaborn as sns\n",
    "import matplotlib.pyplot as plt\n",
    "%matplotlib inline\n",
    "from datetime import datetime"
   ]
  },
  {
   "cell_type": "code",
   "execution_count": 2,
   "id": "3e094521-d0a4-4007-b5c1-70b41c26950c",
   "metadata": {},
   "outputs": [
    {
     "data": {
      "text/html": [
       "<div>\n",
       "<style scoped>\n",
       "    .dataframe tbody tr th:only-of-type {\n",
       "        vertical-align: middle;\n",
       "    }\n",
       "\n",
       "    .dataframe tbody tr th {\n",
       "        vertical-align: top;\n",
       "    }\n",
       "\n",
       "    .dataframe thead th {\n",
       "        text-align: right;\n",
       "    }\n",
       "</style>\n",
       "<table border=\"1\" class=\"dataframe\">\n",
       "  <thead>\n",
       "    <tr style=\"text-align: right;\">\n",
       "      <th></th>\n",
       "      <th>Row ID</th>\n",
       "      <th>Order ID</th>\n",
       "      <th>Order Date</th>\n",
       "      <th>Ship Date</th>\n",
       "      <th>Ship Mode</th>\n",
       "      <th>Customer ID</th>\n",
       "      <th>Customer Name</th>\n",
       "      <th>Segment</th>\n",
       "      <th>City</th>\n",
       "      <th>State</th>\n",
       "      <th>...</th>\n",
       "      <th>Product ID</th>\n",
       "      <th>Category</th>\n",
       "      <th>Sub-Category</th>\n",
       "      <th>Product Name</th>\n",
       "      <th>Sales</th>\n",
       "      <th>Quantity</th>\n",
       "      <th>Discount</th>\n",
       "      <th>Profit</th>\n",
       "      <th>Shipping Cost</th>\n",
       "      <th>Order Priority</th>\n",
       "    </tr>\n",
       "  </thead>\n",
       "  <tbody>\n",
       "    <tr>\n",
       "      <th>0</th>\n",
       "      <td>32298</td>\n",
       "      <td>CA-2012-124891</td>\n",
       "      <td>31/07/2012</td>\n",
       "      <td>31/07/2012</td>\n",
       "      <td>Same Day</td>\n",
       "      <td>RH-19495</td>\n",
       "      <td>Rick Hansen</td>\n",
       "      <td>Consumer</td>\n",
       "      <td>New York City</td>\n",
       "      <td>New York</td>\n",
       "      <td>...</td>\n",
       "      <td>TEC-AC-10003033</td>\n",
       "      <td>Technology</td>\n",
       "      <td>Accessories</td>\n",
       "      <td>Plantronics CS510 - Over-the-Head monaural Wir...</td>\n",
       "      <td>2309.650</td>\n",
       "      <td>7</td>\n",
       "      <td>0.0</td>\n",
       "      <td>762.1845</td>\n",
       "      <td>933.57</td>\n",
       "      <td>Critical</td>\n",
       "    </tr>\n",
       "    <tr>\n",
       "      <th>1</th>\n",
       "      <td>26341</td>\n",
       "      <td>IN-2013-77878</td>\n",
       "      <td>2013-05-02 00:00:00</td>\n",
       "      <td>2013-07-02 00:00:00</td>\n",
       "      <td>Second Class</td>\n",
       "      <td>JR-16210</td>\n",
       "      <td>Justin Ritter</td>\n",
       "      <td>Corporate</td>\n",
       "      <td>Wollongong</td>\n",
       "      <td>New South Wales</td>\n",
       "      <td>...</td>\n",
       "      <td>FUR-CH-10003950</td>\n",
       "      <td>Furniture</td>\n",
       "      <td>Chairs</td>\n",
       "      <td>Novimex Executive Leather Armchair, Black</td>\n",
       "      <td>3709.395</td>\n",
       "      <td>9</td>\n",
       "      <td>0.1</td>\n",
       "      <td>-288.7650</td>\n",
       "      <td>923.63</td>\n",
       "      <td>Critical</td>\n",
       "    </tr>\n",
       "  </tbody>\n",
       "</table>\n",
       "<p>2 rows × 24 columns</p>\n",
       "</div>"
      ],
      "text/plain": [
       "   Row ID        Order ID           Order Date            Ship Date  \\\n",
       "0   32298  CA-2012-124891           31/07/2012           31/07/2012   \n",
       "1   26341   IN-2013-77878  2013-05-02 00:00:00  2013-07-02 00:00:00   \n",
       "\n",
       "      Ship Mode Customer ID  Customer Name    Segment           City  \\\n",
       "0      Same Day    RH-19495    Rick Hansen   Consumer  New York City   \n",
       "1  Second Class    JR-16210  Justin Ritter  Corporate     Wollongong   \n",
       "\n",
       "             State  ...       Product ID    Category Sub-Category  \\\n",
       "0         New York  ...  TEC-AC-10003033  Technology  Accessories   \n",
       "1  New South Wales  ...  FUR-CH-10003950   Furniture       Chairs   \n",
       "\n",
       "                                        Product Name     Sales Quantity  \\\n",
       "0  Plantronics CS510 - Over-the-Head monaural Wir...  2309.650        7   \n",
       "1          Novimex Executive Leather Armchair, Black  3709.395        9   \n",
       "\n",
       "  Discount    Profit  Shipping Cost  Order Priority  \n",
       "0      0.0  762.1845         933.57        Critical  \n",
       "1      0.1 -288.7650         923.63        Critical  \n",
       "\n",
       "[2 rows x 24 columns]"
      ]
     },
     "execution_count": 2,
     "metadata": {},
     "output_type": "execute_result"
    }
   ],
   "source": [
    "#import and check the top n rows of the dataset\n",
    "df = pd.read_excel(r\"C:\\Users\\olami\\Documents\\Datasets\\GlobalSuperstore 2.xlsx\")\n",
    "df.head(2)"
   ]
  },
  {
   "cell_type": "code",
   "execution_count": 3,
   "id": "3cae0758-ddf0-45c2-af5f-2d0cc3cfad53",
   "metadata": {},
   "outputs": [
    {
     "name": "stdout",
     "output_type": "stream",
     "text": [
      "<class 'pandas.core.frame.DataFrame'>\n",
      "RangeIndex: 51290 entries, 0 to 51289\n",
      "Data columns (total 24 columns):\n",
      " #   Column          Non-Null Count  Dtype  \n",
      "---  ------          --------------  -----  \n",
      " 0   Row ID          51290 non-null  int64  \n",
      " 1   Order ID        51290 non-null  object \n",
      " 2   Order Date      51290 non-null  object \n",
      " 3   Ship Date       51290 non-null  object \n",
      " 4   Ship Mode       51290 non-null  object \n",
      " 5   Customer ID     51290 non-null  object \n",
      " 6   Customer Name   51290 non-null  object \n",
      " 7   Segment         51290 non-null  object \n",
      " 8   City            51290 non-null  object \n",
      " 9   State           51290 non-null  object \n",
      " 10  Country         51290 non-null  object \n",
      " 11  Postal Code     9994 non-null   float64\n",
      " 12  Market          51290 non-null  object \n",
      " 13  Region          51290 non-null  object \n",
      " 14  Product ID      51290 non-null  object \n",
      " 15  Category        51290 non-null  object \n",
      " 16  Sub-Category    51290 non-null  object \n",
      " 17  Product Name    51290 non-null  object \n",
      " 18  Sales           51290 non-null  float64\n",
      " 19  Quantity        51290 non-null  int64  \n",
      " 20  Discount        51290 non-null  float64\n",
      " 21  Profit          51290 non-null  float64\n",
      " 22  Shipping Cost   51290 non-null  float64\n",
      " 23  Order Priority  51290 non-null  object \n",
      "dtypes: float64(5), int64(2), object(17)\n",
      "memory usage: 9.4+ MB\n"
     ]
    }
   ],
   "source": [
    "df.info()"
   ]
  },
  {
   "cell_type": "code",
   "execution_count": 4,
   "id": "8a7af624-b4c3-433d-9567-34855e8bbe62",
   "metadata": {},
   "outputs": [],
   "source": [
    "#convert columns to the appropriate data type\n",
    "df.drop('Postal Code', axis = 1, inplace = True)\n",
    "\n",
    "\n",
    "cols = ['Row ID']\n",
    "datecol = ['Order Date', 'Ship Date']\n",
    "\n",
    "\n",
    "for col in cols:\n",
    "    df[col] = df[col].astype('object')\n",
    "\n",
    "\n",
    "for col in datecol:\n",
    "    df[col] = pd.to_datetime(df[col],dayfirst=True)"
   ]
  },
  {
   "cell_type": "markdown",
   "id": "77ecf17c-76ee-4bd3-ac7b-f58128f9d7b2",
   "metadata": {},
   "source": [
    "# DATA EXPLORATION"
   ]
  },
  {
   "cell_type": "code",
   "execution_count": 5,
   "id": "c60ad710-b4af-4deb-aa38-bea1ee73bfa4",
   "metadata": {},
   "outputs": [
    {
     "name": "stdout",
     "output_type": "stream",
     "text": [
      "There are a total of 51290 rows and 23 columns in the dataset.\n",
      "The least order date is 2011-01-01 00:00:00 the max order date is 2014-12-31 00:00:00, spanning a total of 47 months \n",
      "There are a total of 25035 unique orders in the dataset \n",
      "There are a total of 1590 unique customers in the dataset \n",
      "There are a total of 10292 unique products in the dataset \n"
     ]
    }
   ],
   "source": [
    "#How many total rows (orders/line items) are in the dataset?\n",
    "print('There are a total of %s rows and %s columns in the dataset.'%(df.shape[0], df.shape[1]))\n",
    "\n",
    "#What date range does this data cover (first Order Date to last Order Date)?\n",
    "maximum = df['Order Date'].max()\n",
    "minimum = df['Order Date'].min()\n",
    "difference = (maximum.year - minimum.year)*12 + maximum.month - minimum.month\n",
    "\n",
    "print('The least order date is %s the max order date is %s, spanning a total of %s months '%(minimum, maximum, difference))\n",
    "\n",
    "\n",
    "#How many unique Orders are there? (Order ID)\n",
    "print('There are a total of %s unique orders in the dataset '%(df['Order ID'].nunique()))\n",
    "\n",
    "#How many unique Customers? (Customer ID)\n",
    "print('There are a total of %s unique customers in the dataset '%(df['Customer ID'].nunique()))\n",
    "\n",
    "#How many unique Products? (Product ID)\n",
    "print('There are a total of %s unique products in the dataset '%(df['Product ID'].nunique()))"
   ]
  },
  {
   "cell_type": "code",
   "execution_count": 6,
   "id": "a3cecb2e-ca37-4b9a-a4f4-6970afbe0722",
   "metadata": {},
   "outputs": [
    {
     "data": {
      "text/plain": [
       "array(['Same Day', 'Second Class', 'First Class', 'Standard Class'],\n",
       "      dtype=object)"
      ]
     },
     "execution_count": 6,
     "metadata": {},
     "output_type": "execute_result"
    }
   ],
   "source": [
    "#What are the different Ship Mode options available?\n",
    "df['Ship Mode'].unique()"
   ]
  },
  {
   "cell_type": "code",
   "execution_count": 7,
   "id": "05e2c776-4663-498a-8019-8c0095211eda",
   "metadata": {},
   "outputs": [
    {
     "data": {
      "text/plain": [
       "array(['Consumer', 'Corporate', 'Home Office'], dtype=object)"
      ]
     },
     "execution_count": 7,
     "metadata": {},
     "output_type": "execute_result"
    }
   ],
   "source": [
    "#What are the unique Segment types?\n",
    "df['Segment'].unique()"
   ]
  },
  {
   "cell_type": "code",
   "execution_count": 8,
   "id": "7fba755d-88dd-4a19-bc46-218bb85793b0",
   "metadata": {},
   "outputs": [
    {
     "data": {
      "text/plain": [
       "Category         Sub-Category\n",
       "Furniture        Bookcases       2411\n",
       "                 Chairs          3434\n",
       "                 Furnishings     3170\n",
       "                 Tables           861\n",
       "Office Supplies  Appliances      1755\n",
       "                 Art             4883\n",
       "                 Binders         6152\n",
       "                 Envelopes       2435\n",
       "                 Fasteners       2420\n",
       "                 Labels          2606\n",
       "                 Paper           3538\n",
       "                 Storage         5059\n",
       "                 Supplies        2425\n",
       "Technology       Accessories     3075\n",
       "                 Copiers         2223\n",
       "                 Machines        1486\n",
       "                 Phones          3357\n",
       "Name: Row ID, dtype: int64"
      ]
     },
     "execution_count": 8,
     "metadata": {},
     "output_type": "execute_result"
    }
   ],
   "source": [
    "#List all the unique Category and Sub-Category combinations\n",
    "df.groupby(['Category', 'Sub-Category'])['Row ID'].count()"
   ]
  },
  {
   "cell_type": "code",
   "execution_count": 9,
   "id": "1972c227-a608-4230-bc05-e71bb1c33e18",
   "metadata": {},
   "outputs": [
    {
     "data": {
      "text/plain": [
       "Market  Region        \n",
       "APAC    Central Asia      2048\n",
       "        North Asia        2338\n",
       "        Oceania           3487\n",
       "        Southeast Asia    3129\n",
       "Africa  Africa            4587\n",
       "Canada  Canada             384\n",
       "EMEA    EMEA              5029\n",
       "EU      Central           5822\n",
       "        North             2141\n",
       "        South             2037\n",
       "LATAM   Caribbean         1690\n",
       "        Central           2972\n",
       "        North             2644\n",
       "        South             2988\n",
       "US      Central           2323\n",
       "        East              2848\n",
       "        South             1620\n",
       "        West              3203\n",
       "Name: Row ID, dtype: int64"
      ]
     },
     "execution_count": 9,
     "metadata": {},
     "output_type": "execute_result"
    }
   ],
   "source": [
    "#What are the different Markets and Regions covered?\n",
    "df.groupby(['Market', 'Region'])['Row ID'].count()"
   ]
  },
  {
   "cell_type": "markdown",
   "id": "23c62351-722e-4acc-a9be-ab14b739768f",
   "metadata": {},
   "source": [
    "# BASIC CALCULATION"
   ]
  },
  {
   "cell_type": "code",
   "execution_count": 10,
   "id": "2fc71f51-24c3-4ccd-827b-5a9b80260150",
   "metadata": {},
   "outputs": [
    {
     "name": "stdout",
     "output_type": "stream",
     "text": [
      "The total sales revenue in the dataset is: 12642501.91$\n"
     ]
    }
   ],
   "source": [
    "#What is the total Sales revenue in the dataset?\n",
    "sales = df['Sales'].sum().round(2)\n",
    "print(f'The total sales revenue in the dataset is: {sales}$')"
   ]
  },
  {
   "cell_type": "code",
   "execution_count": 11,
   "id": "c82cee2b-3245-4175-b6db-ee4b55cceb13",
   "metadata": {},
   "outputs": [
    {
     "name": "stdout",
     "output_type": "stream",
     "text": [
      "The total profit is: 1467457.29$\n"
     ]
    }
   ],
   "source": [
    "#What is the total profit?\n",
    "profit = df['Profit'].sum().round(2)\n",
    "print(f'The total profit is: {profit}$')"
   ]
  },
  {
   "cell_type": "code",
   "execution_count": 12,
   "id": "60ea78b3-2054-4a2d-9785-fd14c2cbe7d7",
   "metadata": {},
   "outputs": [
    {
     "name": "stdout",
     "output_type": "stream",
     "text": [
      "The overall profit margin  is: 11.61%\n"
     ]
    }
   ],
   "source": [
    "#What is the overall Profit Margin (Total Profit / Total Sales)?\n",
    "print(f'The overall profit margin  is: {(profit/sales)*100:.2f}%')"
   ]
  },
  {
   "cell_type": "code",
   "execution_count": 25,
   "id": "1ec4b084-43ce-4637-8f83-50de1d3b6eb7",
   "metadata": {},
   "outputs": [
    {
     "name": "stdout",
     "output_type": "stream",
     "text": [
      "The average discount offered is 0.14%\n"
     ]
    }
   ],
   "source": [
    "#What is the average Discount percentage offered?\n",
    "discount = df['Discount']\n",
    "print(f'The average discount offered is {discount.mean():.2f}%') #to two decimal place"
   ]
  },
  {
   "cell_type": "code",
   "execution_count": 22,
   "id": "230fe981-8bde-4b52-a836-811291a88fee",
   "metadata": {},
   "outputs": [
    {
     "name": "stdout",
     "output_type": "stream",
     "text": [
      "The total quantity of items sold is 178312 \n"
     ]
    }
   ],
   "source": [
    "#What is the total Quantity of items sold?\n",
    "quantity = df['Quantity'].sum()\n",
    "print(f'The total quantity of items sold is {quantity} ')"
   ]
  },
  {
   "cell_type": "code",
   "execution_count": 26,
   "id": "ac6cedda-807c-468a-bd10-9a30e5e033ca",
   "metadata": {},
   "outputs": [
    {
     "name": "stdout",
     "output_type": "stream",
     "text": [
      "The average shipping cost is 26.38\n"
     ]
    }
   ],
   "source": [
    "#What is the average Shipping Cost?\n",
    "shipping = df['Shipping Cost']\n",
    "print(f'The average shipping cost is {shipping.mean():.2f}')"
   ]
  },
  {
   "cell_type": "code",
   "execution_count": 32,
   "id": "9aa1c840-35eb-4df9-a349-89ed7e1ab740",
   "metadata": {},
   "outputs": [
    {
     "data": {
      "text/plain": [
       "<Axes: xlabel='Order ID'>"
      ]
     },
     "execution_count": 32,
     "metadata": {},
     "output_type": "execute_result"
    },
    {
     "data": {
      "image/png": "[encoded data removed]",
      "text/plain": [
       "<Figure size 640x480 with 1 Axes>"
      ]
     },
     "metadata": {},
     "output_type": "display_data"
    }
   ],
   "source": [
    "#What is the average Sales value per order? \n",
    "df.groupby('Order ID')['Sales'].mean().nlargest(5).plot(kind ='bar')"
   ]
  },
  {
   "cell_type": "code",
   "execution_count": null,
   "id": "21baa5b3-7729-4ecd-9dc4-7e1e5644593c",
   "metadata": {},
   "outputs": [],
   "source": []
  }
 ],
 "metadata": {
  "kernelspec": {
   "display_name": "Python 3 (ipykernel)",
   "language": "python",
   "name": "python3"
  },
  "language_info": {
   "codemirror_mode": {
    "name": "ipython",
    "version": 3
   },
   "file_extension": ".py",
   "mimetype": "text/x-python",
   "name": "python",
   "nbconvert_exporter": "python",
   "pygments_lexer": "ipython3",
   "version": "3.12.7"
  }
 },
 "nbformat": 4,
 "nbformat_minor": 5
}
